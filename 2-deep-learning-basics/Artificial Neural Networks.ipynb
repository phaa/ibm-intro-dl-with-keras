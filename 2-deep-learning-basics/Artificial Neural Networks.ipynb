{
  "metadata": {
    "kernelspec": {
      "name": "python",
      "display_name": "Python (Pyodide)",
      "language": "python"
    },
    "language_info": {
      "codemirror_mode": {
        "name": "python",
        "version": 3
      },
      "file_extension": ".py",
      "mimetype": "text/x-python",
      "name": "python",
      "nbconvert_exporter": "python",
      "pygments_lexer": "ipython3",
      "version": "3.8"
    },
    "prev_pub_hash": "2854def07a921578284c6bf1661892dadf79c0fb12b6b571d2349a3c1f66cc8b"
  },
  "nbformat_minor": 4,
  "nbformat": 4,
  "cells": [
    {
      "cell_type": "markdown",
      "source": "<a href=\"https://cognitiveclass.ai\"><img src=\"https://cf-courses-data.s3.us.cloud-object-storage.appdomain.cloud/IBMDeveloperSkillsNetwork-DL0101EN-SkillsNetwork/images/IDSN-logo.png\" width=\"400\"> </a>\n\n# Artificial Neural Networks - Forward Propagation\n\nEstimated time needed: **30** mins\n",
      "metadata": {}
    },
    {
      "cell_type": "markdown",
      "source": "## Introduction\n",
      "metadata": {}
    },
    {
      "cell_type": "markdown",
      "source": "In this lab, we will build a neural network from scratch and code how it performs predictions using forward propagation. Please note that all deep learning libraries have the entire training and prediction processes implemented, so in practice, you wouldn't need to build a neural network from scratch. However, completing this lab will help you better understand neural networks and how they work.\n",
      "metadata": {}
    },
    {
      "cell_type": "markdown",
      "source": "## Objective for this Notebook    \n* Build a Neural Network\n* Compute Weighted Sum at Each Node\n* Compute Node Activation\n* Use Forward Propagation to Propagate Data\n\n",
      "metadata": {}
    },
    {
      "cell_type": "markdown",
      "source": "# Recap\n",
      "metadata": {}
    },
    {
      "cell_type": "markdown",
      "source": "From the videos, let's recap how a neural network makes predictions through the forward propagation process. Here is a neural network that takes two inputs, has one hidden layer with two nodes, and an output layer with one node.\n",
      "metadata": {}
    },
    {
      "cell_type": "markdown",
      "source": "   \n",
      "metadata": {}
    },
    {
      "cell_type": "markdown",
      "source": "<img src=\"http://cocl.us/neural_network_example\" alt=\"Neural Network Example\" width=\"600px\">\n",
      "metadata": {}
    },
    {
      "cell_type": "markdown",
      "source": "  \n",
      "metadata": {}
    },
    {
      "cell_type": "markdown",
      "source": "Let's start by randomly initializing the weights and the biases in the network. We have 6 weights and 3 biases, one for each node in the hidden layer as well as for each node in the output layer.\n",
      "metadata": {}
    },
    {
      "cell_type": "code",
      "source": "# All Libraries required for this lab are listed below. The libraries pre-installed on Skills Network Labs are commented. \n# If you run this notebook on a different environment, e.g., your desktop, you may need to uncomment and install certain libraries.\n\n#!pip install numpy==1.26.4",
      "metadata": {},
      "outputs": [],
      "execution_count": null
    },
    {
      "cell_type": "code",
      "source": "import numpy as np # import Numpy library to generate \n\nweights = np.around(np.random.uniform(size=6), decimals=2) # initialize the weights\nbiases = np.around(np.random.uniform(size=3), decimals=2) # initialize the biases",
      "metadata": {
        "trusted": true
      },
      "outputs": [],
      "execution_count": 1
    },
    {
      "cell_type": "markdown",
      "source": "Let's print the weights and biases for sanity check.\n",
      "metadata": {}
    },
    {
      "cell_type": "code",
      "source": "print(weights)\nprint(biases)",
      "metadata": {
        "trusted": true
      },
      "outputs": [
        {
          "name": "stdout",
          "text": "[0.6  0.79 0.42 0.99 0.87 1.  ]\n[0.27 0.31 0.18]\n",
          "output_type": "stream"
        }
      ],
      "execution_count": 2
    },
    {
      "cell_type": "markdown",
      "source": "Now that we have the weights and the biases defined for the network, let's compute the output for a given input, $x_1$ and $x_2$.\n",
      "metadata": {}
    },
    {
      "cell_type": "code",
      "source": "x_1 = 0.5 # input 1\nx_2 = 0.85 # input 2\n\nprint('x1 is {} and x2 is {}'.format(x_1, x_2))",
      "metadata": {
        "trusted": true
      },
      "outputs": [
        {
          "name": "stdout",
          "text": "x1 is 0.5 and x2 is 0.85\n",
          "output_type": "stream"
        }
      ],
      "execution_count": 3
    },
    {
      "cell_type": "markdown",
      "source": "Let's start by computing the weighted sum of the inputs, $z_{1, 1}$, at the first node of the hidden layer.\n",
      "metadata": {}
    },
    {
      "cell_type": "code",
      "source": "z_11 = x_1 * weights[0] + x_2 * weights[1] + biases[0]\n\nprint('The weighted sum of the inputs at the first node in the hidden layer is {}'.format(z_11))",
      "metadata": {
        "trusted": true
      },
      "outputs": [
        {
          "name": "stdout",
          "text": "The weighted sum of the inputs at the first node in the hidden layer is 1.2415\n",
          "output_type": "stream"
        }
      ],
      "execution_count": 4
    },
    {
      "cell_type": "markdown",
      "source": "Next, let's compute the weighted sum of the inputs, $z_{1, 2}$, at the second node of the hidden layer. Assign the value to **z_12**.\n",
      "metadata": {}
    },
    {
      "cell_type": "code",
      "source": "### type your answer here\nz_12 = x_1 * weights[2] + x_2 * weights[3] + biases[1]\nprint('The weighted sum of the inputs at the second node in the hidden layer is {}'.format(z_12))",
      "metadata": {
        "trusted": true
      },
      "outputs": [
        {
          "name": "stdout",
          "text": "The weighted sum of the inputs at the second node in the hidden layer is 1.3615000000000002\n",
          "output_type": "stream"
        }
      ],
      "execution_count": 7
    },
    {
      "cell_type": "markdown",
      "source": "Double-click __here__ for the solution.\n<!-- The correct answer is:\nz_12 = x_1 * weights[2] + x_2 * weights[3] + biases[1]\n-->\n",
      "metadata": {}
    },
    {
      "cell_type": "markdown",
      "source": "Print the weighted sum.\n",
      "metadata": {}
    },
    {
      "cell_type": "code",
      "source": "print('The weighted sum of the inputs at the second node in the hidden layer is {}'.format(np.around(z_12, decimals=4)))",
      "metadata": {
        "trusted": true
      },
      "outputs": [
        {
          "name": "stdout",
          "text": "The weighted sum of the inputs at the second node in the hidden layer is 1.3615\n",
          "output_type": "stream"
        }
      ],
      "execution_count": 8
    },
    {
      "cell_type": "markdown",
      "source": "Next, assuming a sigmoid activation function, let's compute the activation of the first node, $a_{1, 1}$, in the hidden layer.\n",
      "metadata": {}
    },
    {
      "cell_type": "code",
      "source": "a_11 = 1.0 / (1.0 + np.exp(-z_11))\n\nprint('The activation of the first node in the hidden layer is {}'.format(np.around(a_11, decimals=4)))",
      "metadata": {
        "trusted": true
      },
      "outputs": [
        {
          "name": "stdout",
          "text": "The activation of the first node in the hidden layer is 0.7758\n",
          "output_type": "stream"
        }
      ],
      "execution_count": 9
    },
    {
      "cell_type": "markdown",
      "source": "Let's also compute the activation of the second node, $a_{1, 2}$, in the hidden layer. Assign the value to **a_12**.\n",
      "metadata": {}
    },
    {
      "cell_type": "code",
      "source": "### type your answer here\na_12 = 1.0 / (1.0 + np.exp(-z_12))",
      "metadata": {
        "trusted": true
      },
      "outputs": [],
      "execution_count": 10
    },
    {
      "cell_type": "markdown",
      "source": "Double-click __here__ for the solution.\n<!-- The correct answer is:\na_12 = 1.0 / (1.0 + np.exp(-z_12))\n-->\n",
      "metadata": {}
    },
    {
      "cell_type": "markdown",
      "source": "Print the activation of the second node.\n",
      "metadata": {}
    },
    {
      "cell_type": "code",
      "source": "print('The activation of the second node in the hidden layer is {}'.format(np.around(a_12, decimals=4)))",
      "metadata": {
        "trusted": true
      },
      "outputs": [
        {
          "name": "stdout",
          "text": "The activation of the second node in the hidden layer is 0.796\n",
          "output_type": "stream"
        }
      ],
      "execution_count": 11
    },
    {
      "cell_type": "markdown",
      "source": "Now these activations will serve as the inputs to the output layer. So, let's compute the weighted sum of these inputs to the node in the output layer. Assign the value to **z_2**.\n",
      "metadata": {}
    },
    {
      "cell_type": "code",
      "source": "### type your answer here\nz_2 = a_11 * weights[4] + a_12 * weights[5] + biases[2]\n",
      "metadata": {
        "trusted": true
      },
      "outputs": [],
      "execution_count": 12
    },
    {
      "cell_type": "markdown",
      "source": "Double-click __here__ for the solution.\n<!-- The correct answer is:\nz_2 = a_11 * weights[4] + a_12 * weights[5] + biases[2]\n-->\n",
      "metadata": {}
    },
    {
      "cell_type": "markdown",
      "source": "Print the weighted sum of the inputs at the node in the output layer.\n",
      "metadata": {}
    },
    {
      "cell_type": "code",
      "source": "print('The weighted sum of the inputs at the node in the output layer is {}'.format(np.around(z_2, decimals=4)))",
      "metadata": {
        "trusted": true
      },
      "outputs": [
        {
          "name": "stdout",
          "text": "The weighted sum of the inputs at the node in the output layer is 1.651\n",
          "output_type": "stream"
        }
      ],
      "execution_count": 13
    },
    {
      "cell_type": "markdown",
      "source": "Finally, let's compute the output of the network as the activation of the node in the output layer. Assign the value to **a_2**.\n",
      "metadata": {}
    },
    {
      "cell_type": "code",
      "source": "### type your answer here\na_2 = 1.0 / (1.0 + np.exp(-z_2))\n",
      "metadata": {
        "trusted": true
      },
      "outputs": [],
      "execution_count": 14
    },
    {
      "cell_type": "markdown",
      "source": "Double-click __here__ for the solution.\n<!-- The correct answer is:\na_2 = 1.0 / (1.0 + np.exp(-z_2))\n-->\n",
      "metadata": {}
    },
    {
      "cell_type": "markdown",
      "source": "Print the activation of the node in the output layer which is equivalent to the prediction made by the network.\n",
      "metadata": {}
    },
    {
      "cell_type": "code",
      "source": "print('The output of the network for x1 = 0.5 and x2 = 0.85 is {}'.format(np.around(a_2, decimals=4)))",
      "metadata": {
        "trusted": true
      },
      "outputs": [
        {
          "name": "stdout",
          "text": "The output of the network for x1 = 0.5 and x2 = 0.85 is 0.839\n",
          "output_type": "stream"
        }
      ],
      "execution_count": 15
    },
    {
      "cell_type": "markdown",
      "source": "<hr>\n",
      "metadata": {}
    },
    {
      "cell_type": "markdown",
      "source": "Obviously, neural networks for real problems are composed of many hidden layers and many more nodes in each layer. So, we can't continue making predictions using this very inefficient approach of computing the weighted sum at each node and the activation of each node manually. \n",
      "metadata": {}
    },
    {
      "cell_type": "markdown",
      "source": "In order to code an automatic way of making predictions, let's generalize our network. A general network would take $n$ inputs, would have many hidden layers, each hidden layer having $m$ nodes, and would have an output layer. Although the network is showing one hidden layer, but we will code the network to have many hidden layers. Similarly, although the network shows an output layer with one node, we will code the network to have more than one node in the output layer.\n",
      "metadata": {}
    },
    {
      "cell_type": "markdown",
      "source": "<img src=\"http://cocl.us/general_neural_network\" alt=\"Neural Network General\" width=\"600px\">\n",
      "metadata": {}
    },
    {
      "cell_type": "markdown",
      "source": "<a id='item12'></a>\n",
      "metadata": {}
    },
    {
      "cell_type": "markdown",
      "source": "## Build a Neural Network\n",
      "metadata": {}
    },
    {
      "cell_type": "markdown",
      "source": "Let's start by formally defining the structure of the network.\n",
      "metadata": {}
    },
    {
      "cell_type": "code",
      "source": "n = 2 # number of inputs\nnum_hidden_layers = 2 # number of hidden layers\nm = [2, 2] # number of nodes in each hidden layer\nnum_nodes_output = 1 # number of nodes in the output layer",
      "metadata": {
        "trusted": true
      },
      "outputs": [],
      "execution_count": 17
    },
    {
      "cell_type": "markdown",
      "source": "Now that we defined the structure of the network, let's go ahead and inititailize the weights and the biases in the network to random numbers. In order to be able to initialize the weights and the biases to random numbers, we will need to import the **Numpy** library.\n",
      "metadata": {}
    },
    {
      "cell_type": "code",
      "source": "import numpy as np # import the Numpy library\n\nnum_nodes_previous = n # number of nodes in the previous layer\n\nnetwork = {} # initialize network an an empty dictionary\n\n# loop through each layer and randomly initialize the weights and biases associated with each node\n# notice how we are adding 1 to the number of hidden layers in order to include the output layer\nfor layer in range(num_hidden_layers + 1): \n    \n    # determine name of layer\n    if layer == num_hidden_layers:\n        layer_name = 'output'\n        num_nodes = num_nodes_output\n    else:\n        layer_name = f'layer_{layer + 1}'\n        num_nodes = m[layer]\n    \n    # initialize weights and biases associated with each node in the current layer\n    network[layer_name] = {}\n    for node in range(num_nodes):\n        node_name = f'node_{node+1}'\n        network[layer_name][node_name] = {\n            'weights': np.around(np.random.uniform(size=num_nodes_previous), decimals=2),\n            'bias': np.around(np.random.uniform(size=1), decimals=2),\n        }\n    \n    num_nodes_previous = num_nodes\n    \nprint(network) # print network",
      "metadata": {
        "trusted": true
      },
      "outputs": [
        {
          "name": "stdout",
          "text": "{'layer_1': {'node_1': {'weights': array([0.75, 0.24]), 'bias': array([0.85])}, 'node_2': {'weights': array([0.45, 0.58]), 'bias': array([0.78])}}, 'layer_2': {'node_1': {'weights': array([0.76, 0.01]), 'bias': array([0.02])}, 'node_2': {'weights': array([0.27, 0.17]), 'bias': array([0.37])}}, 'output': {'node_1': {'weights': array([0.44, 0.62]), 'bias': array([0.38])}}}\n",
          "output_type": "stream"
        }
      ],
      "execution_count": 20
    },
    {
      "cell_type": "markdown",
      "source": "Awesome! So now with the above code, we are able to initialize the weights and the biases pertaining to any network of any number of hidden layers and number of nodes in each layer. But let's put this code in a function so that we are able to repetitively execute all this code whenever we want to construct a neural network.\n",
      "metadata": {}
    },
    {
      "cell_type": "code",
      "source": "def initialize_network(num_inputs, num_hidden_layers, num_nodes_hidden, num_nodes_output):\n    \n    num_nodes_previous = num_inputs # number of nodes in the previous layer\n\n    network = {}\n    \n    # loop through each layer and randomly initialize the weights and biases associated with each layer\n    for layer in range(num_hidden_layers + 1):\n        \n        if layer == num_hidden_layers:\n            layer_name = 'output' # name last layer in the network output\n            num_nodes = num_nodes_output\n        else:\n            layer_name = f'layer_{layer + 1}' # otherwise give the layer a number\n            num_nodes = num_nodes_hidden[layer] \n        \n        # initialize weights and bias for each node\n        network[layer_name] = {}\n        for node in range(num_nodes):\n            node_name = f'node_{node+1}'\n            network[layer_name][node_name] = {\n                'weights': np.around(np.random.uniform(size=num_nodes_previous), decimals=2),\n                'bias': np.around(np.random.uniform(size=1), decimals=2),\n            }\n    \n        num_nodes_previous = num_nodes\n\n    return network # return the network",
      "metadata": {
        "trusted": true
      },
      "outputs": [],
      "execution_count": 21
    },
    {
      "cell_type": "markdown",
      "source": "#### Use the *initialize_network* function to create a network that:\n\n1. takes 5 inputs\n2. has three hidden layers\n3. has 3 nodes in the first layer, 2 nodes in the second layer, and 3 nodes in the third layer\n4. has 1 node in the output layer\n\nCall the network **small_network**.\n",
      "metadata": {}
    },
    {
      "cell_type": "code",
      "source": "### type your answer here\nsmall_network = initialize_network(5, 3, [3, 2, 3], 1)\n\nprint(small_network)\n",
      "metadata": {
        "trusted": true
      },
      "outputs": [
        {
          "name": "stdout",
          "text": "{'layer_1': {'node_1': {'weights': array([0.6 , 0.46, 0.37, 0.42, 0.48]), 'bias': array([0.1])}, 'node_2': {'weights': array([0.27, 0.74, 0.73, 0.52, 0.13]), 'bias': array([0.26])}, 'node_3': {'weights': array([0.23, 0.05, 0.73, 0.59, 0.56]), 'bias': array([0.43])}}, 'layer_2': {'node_1': {'weights': array([0.78, 0.62, 0.82]), 'bias': array([0.41])}, 'node_2': {'weights': array([0.02, 0.69, 0.81]), 'bias': array([0.78])}}, 'layer_3': {'node_1': {'weights': array([0.65, 0.63]), 'bias': array([0.7])}, 'node_2': {'weights': array([0.  , 0.85]), 'bias': array([0.36])}, 'node_3': {'weights': array([0.05, 0.46]), 'bias': array([0.46])}}, 'output': {'node_1': {'weights': array([0.48, 0.22, 0.17]), 'bias': array([0.82])}}}\n",
          "output_type": "stream"
        }
      ],
      "execution_count": 22
    },
    {
      "cell_type": "markdown",
      "source": "Double-click __here__ for the solution.\n<!-- The correct answer is:\nsmall_network = initialize_network(5, 3, [3, 2, 3], 1)\n-->\n",
      "metadata": {}
    },
    {
      "cell_type": "markdown",
      "source": "<a id='item13'></a>\n",
      "metadata": {}
    },
    {
      "cell_type": "markdown",
      "source": "## Compute Weighted Sum at Each Node\n",
      "metadata": {}
    },
    {
      "cell_type": "markdown",
      "source": "The weighted sum at each node is computed as the dot product of the inputs and the weights plus the bias. So let's create a function called *compute_weighted_sum* that does just that.\n",
      "metadata": {}
    },
    {
      "cell_type": "code",
      "source": "def compute_weighted_sum(inputs, weights, bias):\n    return np.sum(inputs * weights) + bias",
      "metadata": {
        "trusted": true
      },
      "outputs": [],
      "execution_count": 23
    },
    {
      "cell_type": "markdown",
      "source": "Let's generate 5 inputs that we can feed to **small_network**.\n",
      "metadata": {}
    },
    {
      "cell_type": "code",
      "source": "from random import seed\nimport numpy as np\n\nnp.random.seed(12)\ninputs = np.around(np.random.uniform(size=5), decimals=2)\n\nprint('The inputs to the network are {}'.format(inputs))",
      "metadata": {
        "trusted": true
      },
      "outputs": [
        {
          "name": "stdout",
          "text": "The inputs to the network are [0.15 0.74 0.26 0.53 0.01]\n",
          "output_type": "stream"
        }
      ],
      "execution_count": 24
    },
    {
      "cell_type": "markdown",
      "source": "#### Use the *compute_weighted_sum* function to compute the weighted sum at the first node in the first hidden layer.\n",
      "metadata": {}
    },
    {
      "cell_type": "code",
      "source": "### type your answer here\nnode_1_weights = small_network['layer_1']['node_1']['weights']\nnode_1_bias = small_network['layer_1']['node_1']['bias']\nsum_node_1 = compute_weighted_sum(inputs, node_1_weights, node_1_bias)\n\nprint('The weighted sum at the first node in the first hidden layer is {}'.format(np.around(sum_node_1[0], decimals=4)))\n",
      "metadata": {
        "trusted": true
      },
      "outputs": [
        {
          "name": "stdout",
          "text": "The weighted sum at the first node in the first hidden layer is 0.854\n",
          "output_type": "stream"
        }
      ],
      "execution_count": 25
    },
    {
      "cell_type": "markdown",
      "source": "Double-click __here__ for the solution.\n<!-- The correct answer is:\nnode_weights = small_network['layer_1']['node_1']['weights']\nnode_bias = small_network['layer_1']['node_1']['bias']\n\nweighted_sum = compute_weighted_sum(inputs, node_weights, node_bias)\nprint('The weighted sum at the first node in the hidden layer is {}'.format(np.around(weighted_sum[0], decimals=4)))\n-->\n",
      "metadata": {}
    },
    {
      "cell_type": "markdown",
      "source": "<a id='item14'></a>\n",
      "metadata": {}
    },
    {
      "cell_type": "markdown",
      "source": "## Compute Node Activation\n",
      "metadata": {}
    },
    {
      "cell_type": "markdown",
      "source": "Recall that the output of each node is simply a non-linear tranformation of the weighted sum. We use activation functions for this mapping. Let's use the sigmoid function as the activation function here. So let's define a function that takes a weighted sum as input and returns the non-linear transformation of the input using the sigmoid function.\n",
      "metadata": {}
    },
    {
      "cell_type": "code",
      "source": "def node_activation(weighted_sum):\n    return 1.0 / (1.0 + np.exp(-1 * weighted_sum))",
      "metadata": {
        "trusted": true
      },
      "outputs": [],
      "execution_count": 27
    },
    {
      "cell_type": "markdown",
      "source": "#### Use the *node_activation* function to compute the output of the first node in the first hidden layer.\n",
      "metadata": {}
    },
    {
      "cell_type": "code",
      "source": "### type your answer here\nnode_1_activation = node_activation(sum_node_1)\nprint('The activation value of the first node in the first layer is {}'.format(np.around(node_1_activation[0], decimals=4)))\n",
      "metadata": {
        "trusted": true
      },
      "outputs": [
        {
          "name": "stdout",
          "text": "The activation value of the first node in the first layer is 0.7014\n",
          "output_type": "stream"
        }
      ],
      "execution_count": 29
    },
    {
      "cell_type": "markdown",
      "source": "Double-click __here__ for the solution.\n<!-- The correct answer is:\nnode_output  = node_activation(compute_weighted_sum(inputs, node_weights, node_bias))\nprint('The output of the first node in the hidden layer is {}'.format(np.around(node_output[0], decimals=4)))\n-->\n",
      "metadata": {}
    },
    {
      "cell_type": "markdown",
      "source": "   \n",
      "metadata": {}
    },
    {
      "cell_type": "markdown",
      "source": "## Forward Propagation\n",
      "metadata": {}
    },
    {
      "cell_type": "markdown",
      "source": "The final piece of building a neural network that can perform predictions is to put everything together. So let's create a function that applies the *compute_weighted_sum* and *node_activation* functions to each node in the network and propagates the data all the way to the output layer and outputs a prediction for each node in the output layer.\n",
      "metadata": {}
    },
    {
      "cell_type": "markdown",
      "source": "The way we are going to accomplish this is through the following procedure:\n\n1. Start with the input layer as the input to the first hidden layer.\n2. Compute the weighted sum at the nodes of the current layer.\n3. Compute the output of the nodes of the current layer.\n4. Set the output of the current layer to be the input to the next layer.\n5. Move to the next layer in the network.\n6. Repeat steps 2 - 5 until we compute the output of the output layer.\n",
      "metadata": {}
    },
    {
      "cell_type": "code",
      "source": "def forward_propagate(network, inputs):\n    \n    layer_inputs = list(inputs) # start with the input layer as the input to the first hidden layer\n    \n    for layer in network:\n        \n        layer_data = network[layer]\n        \n        layer_outputs = [] \n        for layer_node in layer_data:\n        \n            node_data = layer_data[layer_node]\n        \n            # compute the weighted sum and the output of each node at the same time \n            node_sum = compute_weighted_sum(layer_inputs, node_data['weights'], node_data['bias'])\n            node_output = node_activation(node_sum)\n            layer_outputs.append(np.around(node_output[0], decimals=4))\n            \n        if layer != 'output':\n            print('The outputs of the nodes in hidden layer number {} is {}'.format(layer.split('_')[1], layer_outputs))\n    \n        layer_inputs = layer_outputs # set the output of this layer to be the input to next layer\n\n    network_predictions = layer_outputs\n    return network_predictions",
      "metadata": {
        "trusted": true
      },
      "outputs": [],
      "execution_count": 31
    },
    {
      "cell_type": "markdown",
      "source": "#### Use the *forward_propagate* function to compute the prediction of our small network\n",
      "metadata": {}
    },
    {
      "cell_type": "code",
      "source": "### type your answser here\nprediction = forward_propagate(small_network, inputs)\nprint('The prediction of our small network is {}'.format(np.around(prediction[0], decimals=4)))",
      "metadata": {
        "trusted": true
      },
      "outputs": [
        {
          "name": "stdout",
          "text": "The outputs of the nodes in hidden layer number 1 is [0.7014, 0.7883, 0.7329]\nThe outputs of the nodes in hidden layer number 2 is [0.8856, 0.8734]\nThe outputs of the nodes in hidden layer number 3 is [0.8613, 0.7507, 0.7122]\nThe prediction of our small network is 0.8205\n",
          "output_type": "stream"
        }
      ],
      "execution_count": 34
    },
    {
      "cell_type": "markdown",
      "source": "Double-click __here__ for the solution.\n<!-- The correct answer is:\npredictions = forward_propagate(small_network, inputs)\nprint('The predicted value by the network for the given input is {}'.format(np.around(predictions[0], decimals=4)))\n-->\n",
      "metadata": {}
    },
    {
      "cell_type": "markdown",
      "source": "So we built the code to define a neural network. We can specify the number of inputs that a neural network can take, the number of hidden layers as well as the number of nodes in each hidden layer, and the number of nodes in the output layer.\n",
      "metadata": {}
    },
    {
      "cell_type": "markdown",
      "source": "We first use the *initialize_network* to create our neural network and define its weights and biases.\n",
      "metadata": {}
    },
    {
      "cell_type": "code",
      "source": "my_network = initialize_network(5, 3, [2, 3, 2], 3)",
      "metadata": {},
      "outputs": [],
      "execution_count": null
    },
    {
      "cell_type": "markdown",
      "source": "Then, for a given input,\n",
      "metadata": {}
    },
    {
      "cell_type": "code",
      "source": "inputs = np.around(np.random.uniform(size=5), decimals=2)",
      "metadata": {},
      "outputs": [],
      "execution_count": null
    },
    {
      "cell_type": "markdown",
      "source": "we compute the network predictions.\n",
      "metadata": {}
    },
    {
      "cell_type": "code",
      "source": "predictions = forward_propagate(my_network, inputs)\nprint('The predicted values by the network for the given input are {}'.format(predictions))",
      "metadata": {},
      "outputs": [],
      "execution_count": null
    },
    {
      "cell_type": "markdown",
      "source": "Feel free to play around with the code by creating different networks of different structures and enjoy making predictions using the *forward_propagate* function.\n",
      "metadata": {}
    },
    {
      "cell_type": "code",
      "source": "### create a network\nmedium_network = initialize_network(5, 5, [5, 5, 5, 5, 5], 2)\nprint(medium_network)",
      "metadata": {
        "trusted": true
      },
      "outputs": [
        {
          "name": "stdout",
          "text": "{'layer_1': {'node_1': {'weights': array([0.  , 0.9 , 0.92, 0.01, 0.64]), 'bias': array([0.39])}, 'node_2': {'weights': array([0.6 , 0.61, 0.6 , 0.31, 0.07]), 'bias': array([0.8])}, 'node_3': {'weights': array([0.91, 0.19, 0.21, 0.38, 0.4 ]), 'bias': array([0.89])}, 'node_4': {'weights': array([0.2 , 0.42, 0.65, 0.51, 0.33]), 'bias': array([0.78])}, 'node_5': {'weights': array([0.14, 0.19, 0.4 , 0.79, 0.25]), 'bias': array([0.11])}}, 'layer_2': {'node_1': {'weights': array([0.93, 0.13, 0.61, 0.29, 0.63]), 'bias': array([0.66])}, 'node_2': {'weights': array([0.07, 0.36, 0.33, 0.18, 0.01]), 'bias': array([0.01])}, 'node_3': {'weights': array([0.6 , 0.08, 0.32, 0.97, 0.87]), 'bias': array([0.91])}, 'node_4': {'weights': array([0.17, 0.32, 0.24, 0.49, 0.54]), 'bias': array([0.41])}, 'node_5': {'weights': array([0.74, 0.64, 0.66, 0.15, 0.75]), 'bias': array([0.64])}}, 'layer_3': {'node_1': {'weights': array([0.3 , 0.38, 0.99, 0.34, 0.34]), 'bias': array([0.61])}, 'node_2': {'weights': array([0.62, 0.01, 0.57, 0.78, 0.95]), 'bias': array([0.7])}, 'node_3': {'weights': array([0.12, 0.25, 0.42, 0.63, 0.1 ]), 'bias': array([0.39])}, 'node_4': {'weights': array([0.32, 0.97, 0.97, 0.74, 0.52]), 'bias': array([0.16])}, 'node_5': {'weights': array([0.95, 0.92, 0.88, 0.05, 0.77]), 'bias': array([0.11])}}, 'layer_4': {'node_1': {'weights': array([0.91, 0.59, 0.99, 0.43, 0.63]), 'bias': array([0.78])}, 'node_2': {'weights': array([0.26, 0.64, 0.83, 0.52, 0.42]), 'bias': array([0.53])}, 'node_3': {'weights': array([0.95, 1.  , 0.67, 0.79, 0.98]), 'bias': array([0.14])}, 'node_4': {'weights': array([0.03, 0.75, 0.62, 0.1 , 0.52]), 'bias': array([0.51])}, 'node_5': {'weights': array([0.29, 0.25, 0.18, 0.58, 0.15]), 'bias': array([0.71])}}, 'layer_5': {'node_1': {'weights': array([0.86, 0.69, 0.27, 0.4 , 0.51]), 'bias': array([0.34])}, 'node_2': {'weights': array([0.55, 0.69, 0.3 , 0.22, 0.79]), 'bias': array([0.78])}, 'node_3': {'weights': array([0.04, 0.65, 0.13, 0.55, 0.29]), 'bias': array([0.83])}, 'node_4': {'weights': array([0.1 , 0.9 , 0.34, 0.13, 0.46]), 'bias': array([0.08])}, 'node_5': {'weights': array([0.74, 0.36, 0.33, 0.11, 0.19]), 'bias': array([0.52])}}, 'output': {'node_1': {'weights': array([0.11, 0.48, 0.93, 0.4 , 0.18]), 'bias': array([0.81])}, 'node_2': {'weights': array([0.66, 0.61, 0.12, 0.35, 0.47]), 'bias': array([0.38])}}}\n",
          "output_type": "stream"
        }
      ],
      "execution_count": 36
    },
    {
      "cell_type": "code",
      "source": "inputs_2 = np.around(np.random.uniform(size=5), decimals=2)\npredictions = forward_propagate(medium_network, inputs_2)\nprint('The predicted values by the network for the given input are {}'.format(predictions))",
      "metadata": {
        "trusted": true
      },
      "outputs": [
        {
          "name": "stdout",
          "text": "The outputs of the nodes in hidden layer number 1 is [0.6921, 0.8008, 0.8159, 0.8059, 0.7]\nThe outputs of the nodes in hidden layer number 2 is [0.9296, 0.6831, 0.9544, 0.8523, 0.9453]\nThe outputs of the nodes in hidden layer number 3 is [0.9373, 0.9674, 0.8461, 0.9596, 0.962]\nThe outputs of the nodes in hidden layer number 4 is [0.983, 0.9525, 0.9862, 0.9156, 0.8886]\nThe outputs of the nodes in hidden layer number 5 is [0.9492, 0.96, 0.9151, 0.8697, 0.8989]\nThe predicted values by the network for the given input are [0.9391, 0.919]\n",
          "output_type": "stream"
        }
      ],
      "execution_count": 37
    },
    {
      "cell_type": "code",
      "source": "### create another network\nbig_network = initialize_network(5, 10, [5, 5, 5, 5, 5, 5, 5, 5, 5, 5], 2)\nprint(big_network)",
      "metadata": {
        "trusted": true
      },
      "outputs": [
        {
          "name": "stdout",
          "text": "{'layer_1': {'node_1': {'weights': array([0.32, 0.39, 0.04, 0.16, 0.17]), 'bias': array([0.77])}, 'node_2': {'weights': array([0.24, 0.75, 0.35, 0.66, 0.65]), 'bias': array([0.23])}, 'node_3': {'weights': array([0.42, 0.68, 0.61, 0.61, 0.04]), 'bias': array([0.91])}, 'node_4': {'weights': array([0.89, 0.18, 0.39, 0.91, 0.45]), 'bias': array([0.43])}, 'node_5': {'weights': array([0.71, 0.16, 0.86, 0.01, 0.07]), 'bias': array([0.38])}}, 'layer_2': {'node_1': {'weights': array([0.25, 0.51, 0.14, 0.64, 0.54]), 'bias': array([0.83])}, 'node_2': {'weights': array([0.27, 0.17, 0.53, 0.24, 0.46]), 'bias': array([0.12])}, 'node_3': {'weights': array([0.6 , 0.84, 0.91, 0.95, 0.58]), 'bias': array([0.51])}, 'node_4': {'weights': array([0.78, 0.67, 0.16, 0.43, 0.15]), 'bias': array([0.57])}, 'node_5': {'weights': array([0.51, 0.45, 0.99, 0.9 , 0.15]), 'bias': array([0.61])}}, 'layer_3': {'node_1': {'weights': array([0.48, 0.83, 0.93, 0.83, 0.03]), 'bias': array([0.89])}, 'node_2': {'weights': array([0.16, 0.33, 0.38, 0.82, 0.2 ]), 'bias': array([0.18])}, 'node_3': {'weights': array([0.99, 0.04, 0.31, 0.41, 0.23]), 'bias': array([0.27])}, 'node_4': {'weights': array([0.11, 0.81, 0.25, 0.63, 0.36]), 'bias': array([0.])}, 'node_5': {'weights': array([0.25, 0.83, 0.41, 0.09, 0.97]), 'bias': array([0.65])}}, 'layer_4': {'node_1': {'weights': array([0.66, 0.93, 0.93, 0.88, 0.4 ]), 'bias': array([0.28])}, 'node_2': {'weights': array([0.48, 0.76, 0.51, 0.38, 0.6 ]), 'bias': array([0.64])}, 'node_3': {'weights': array([0.98, 0.62, 0.39, 0.93, 0.73]), 'bias': array([0.43])}, 'node_4': {'weights': array([0.46, 1.  , 0.96, 0.01, 0.85]), 'bias': array([0.36])}, 'node_5': {'weights': array([0.4 , 0.29, 0.61, 0.18, 0.21]), 'bias': array([0.22])}}, 'layer_5': {'node_1': {'weights': array([0.56, 0.1 , 0.31, 0.81, 0.49]), 'bias': array([0.96])}, 'node_2': {'weights': array([0.71, 0.12, 0.45, 0.53, 0.9 ]), 'bias': array([0.92])}, 'node_3': {'weights': array([0.05, 0.91, 0.69, 0.57, 0.92]), 'bias': array([0.41])}, 'node_4': {'weights': array([0.67, 0.83, 0.82, 0.56, 0.56]), 'bias': array([0.86])}, 'node_5': {'weights': array([0.21, 0.72, 0.82, 0.12, 0.85]), 'bias': array([0.13])}}, 'layer_6': {'node_1': {'weights': array([0.05, 0.47, 0.94, 0.95, 0.59]), 'bias': array([0.81])}, 'node_2': {'weights': array([0.25, 0.64, 0.17, 0.25, 0.93]), 'bias': array([0.9])}, 'node_3': {'weights': array([0.74, 0.47, 0.88, 0.17, 0.51]), 'bias': array([0.6])}, 'node_4': {'weights': array([0.04, 0.82, 0.28, 0.93, 0.93]), 'bias': array([0.79])}, 'node_5': {'weights': array([0.83, 0.3 , 0.16, 0.37, 0.39]), 'bias': array([0.94])}}, 'layer_7': {'node_1': {'weights': array([0.83, 0.84, 0.69, 0.8 , 0.46]), 'bias': array([0.9])}, 'node_2': {'weights': array([0.97, 0.41, 0.91, 0.71, 0.64]), 'bias': array([0.53])}, 'node_3': {'weights': array([0.94, 0.36, 0.14, 0.06, 0.81]), 'bias': array([0.54])}, 'node_4': {'weights': array([0.24, 0.34, 0.66, 0.75, 0.09]), 'bias': array([0.62])}, 'node_5': {'weights': array([0.6 , 0.8 , 0.22, 0.16, 0.75]), 'bias': array([0.39])}}, 'layer_8': {'node_1': {'weights': array([0.12, 0.44, 0.8 , 0.35, 0.2 ]), 'bias': array([0.77])}, 'node_2': {'weights': array([0.07, 0.1 , 0.03, 0.8 , 0.35]), 'bias': array([0.21])}, 'node_3': {'weights': array([0.  , 0.27, 0.14, 0.87, 0.11]), 'bias': array([0.77])}, 'node_4': {'weights': array([0.52, 0.04, 0.2 , 0.34, 0.36]), 'bias': array([0.3])}, 'node_5': {'weights': array([0.64, 0.09, 0.08, 0.54, 0.31]), 'bias': array([0.67])}}, 'layer_9': {'node_1': {'weights': array([0.28, 0.68, 0.88, 0.35, 0.26]), 'bias': array([0.75])}, 'node_2': {'weights': array([0.14, 0.52, 0.93, 0.29, 0.75]), 'bias': array([0.41])}, 'node_3': {'weights': array([0.84, 0.75, 0.03, 0.89, 0.17]), 'bias': array([0.88])}, 'node_4': {'weights': array([0.4 , 0.05, 0.88, 0.63, 0.29]), 'bias': array([0.87])}, 'node_5': {'weights': array([0.26, 0.33, 0.55, 0.6 , 0.47]), 'bias': array([0.79])}}, 'layer_10': {'node_1': {'weights': array([0.54, 0.66, 0.08, 0.9 , 0.08]), 'bias': array([0.69])}, 'node_2': {'weights': array([0.62, 0.26, 1.  , 0.86, 0.48]), 'bias': array([1.])}, 'node_3': {'weights': array([0.4 , 0.43, 0.69, 0.26, 0.44]), 'bias': array([0.67])}, 'node_4': {'weights': array([0.24, 0.45, 0.1 , 0.95, 0.61]), 'bias': array([0.14])}, 'node_5': {'weights': array([0.56, 0.07, 0.45, 0.84, 0.65]), 'bias': array([0.4])}}, 'output': {'node_1': {'weights': array([0.64, 0.93, 0.23, 0.9 , 0.26]), 'bias': array([0.62])}, 'node_2': {'weights': array([0.15, 0.49, 0.95, 0.45, 0.73]), 'bias': array([0.48])}}}\n",
          "output_type": "stream"
        }
      ],
      "execution_count": 38
    },
    {
      "cell_type": "code",
      "source": "inputs_3 = np.around(np.random.uniform(size=5), decimals=2)\npredictions = forward_propagate(big_network, inputs_3)\nprint('The predicted values by the network for the given input are {}'.format(predictions))",
      "metadata": {
        "trusted": true
      },
      "outputs": [
        {
          "name": "stdout",
          "text": "The outputs of the nodes in hidden layer number 1 is [0.7818, 0.864, 0.8853, 0.871, 0.6874]\nThe outputs of the nodes in hidden layer number 2 is [0.9254, 0.8134, 0.9767, 0.9151, 0.9593]\nThe outputs of the nodes in hidden layer number 3 is [0.976, 0.871, 0.8926, 0.8729, 0.9512]\nThe outputs of the nodes in hidden layer number 4 is [0.9762, 0.958, 0.9777, 0.9662, 0.8538]\nThe outputs of the nodes in hidden layer number 5 is [0.9572, 0.9692, 0.9658, 0.9842, 0.9351]\nThe outputs of the nodes in hidden layer number 6 is [0.9761, 0.9543, 0.963, 0.9754, 0.9483]\nThe outputs of the nodes in hidden layer number 7 is [0.9878, 0.9828, 0.9406, 0.9328, 0.9437]\nThe outputs of the nodes in hidden layer number 8 is [0.9301, 0.8149, 0.8892, 0.8453, 0.9057]\nThe outputs of the nodes in hidden layer number 9 is [0.9468, 0.9379, 0.961, 0.9459, 0.9384]\nThe outputs of the nodes in hidden layer number 10 is [0.9439, 0.983, 0.9413, 0.9134, 0.9444]\nThe predicted values by the network for the given input are [0.9684, 0.9568]\n",
          "output_type": "stream"
        }
      ],
      "execution_count": 39
    },
    {
      "cell_type": "markdown",
      "source": "### Thank you for completing this lab!\n\nThis notebook was created by [Alex Aklson](https://www.linkedin.com/in/aklson/). I hope you found this lab interesting and educational. Feel free to contact me if you have any questions!\n",
      "metadata": {}
    },
    {
      "cell_type": "markdown",
      "source": "<!--\n## Change Log\n\n|  Date (YYYY-MM-DD) |  Version | Changed By  |  Change Description |\n|---|---|---|---|\n| 2024-11-20  | 3.0  | Aman  |  Migrated Lab to JupyterLite  and updated the library version to current |\n| 2020-09-21  | 2.0  | Srishti  |  Migrated Lab to Markdown and added to course repo in GitLab |\n\n\n\n<hr>\n\n## <h3 align=\"center\"> © IBM Corporation. All rights reserved. <h3/>\n",
      "metadata": {}
    },
    {
      "cell_type": "markdown",
      "source": "## <h3 align=\"center\"> &#169; IBM Corporation. All rights reserved. <h3/>\n",
      "metadata": {}
    }
  ]
}